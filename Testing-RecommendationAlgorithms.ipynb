{
 "cells": [
  {
   "cell_type": "code",
   "execution_count": 1,
   "id": "7997dd1b",
   "metadata": {},
   "outputs": [],
   "source": [
    "import functions as db\n",
    "import pandas as pd\n",
    "# Similarity\n",
    "from sklearn.metrics.pairwise import cosine_similarity"
   ]
  },
  {
   "cell_type": "code",
   "execution_count": 2,
   "id": "642b3273",
   "metadata": {},
   "outputs": [
    {
     "data": {
      "text/html": [
       "<div>\n",
       "<style scoped>\n",
       "    .dataframe tbody tr th:only-of-type {\n",
       "        vertical-align: middle;\n",
       "    }\n",
       "\n",
       "    .dataframe tbody tr th {\n",
       "        vertical-align: top;\n",
       "    }\n",
       "\n",
       "    .dataframe thead th {\n",
       "        text-align: right;\n",
       "    }\n",
       "</style>\n",
       "<table border=\"1\" class=\"dataframe\">\n",
       "  <thead>\n",
       "    <tr style=\"text-align: right;\">\n",
       "      <th></th>\n",
       "      <th>id</th>\n",
       "      <th>name</th>\n",
       "      <th>email</th>\n",
       "      <th>username</th>\n",
       "      <th>password</th>\n",
       "      <th>phone</th>\n",
       "      <th>fav_author</th>\n",
       "    </tr>\n",
       "  </thead>\n",
       "  <tbody>\n",
       "    <tr>\n",
       "      <th>0</th>\n",
       "      <td>1424</td>\n",
       "      <td>Mechelle</td>\n",
       "      <td>test1@gmail.com</td>\n",
       "      <td>username_1</td>\n",
       "      <td>12345678A</td>\n",
       "      <td>999999999</td>\n",
       "      <td>William Shatner</td>\n",
       "    </tr>\n",
       "    <tr>\n",
       "      <th>1</th>\n",
       "      <td>1848</td>\n",
       "      <td>Tyesha</td>\n",
       "      <td>test2@gmail.com</td>\n",
       "      <td>username_2</td>\n",
       "      <td>12345678A</td>\n",
       "      <td>999999999</td>\n",
       "      <td>Meggin Cabot</td>\n",
       "    </tr>\n",
       "    <tr>\n",
       "      <th>2</th>\n",
       "      <td>3363</td>\n",
       "      <td>Dean</td>\n",
       "      <td>test3@gmail.com</td>\n",
       "      <td>username_3</td>\n",
       "      <td>12345678A</td>\n",
       "      <td>999999999</td>\n",
       "      <td>Rebecca Wells</td>\n",
       "    </tr>\n",
       "    <tr>\n",
       "      <th>3</th>\n",
       "      <td>4017</td>\n",
       "      <td>Margareta</td>\n",
       "      <td>test5@gmail.com</td>\n",
       "      <td>username_5</td>\n",
       "      <td>12345678A</td>\n",
       "      <td>999999999</td>\n",
       "      <td>Sharon Creech</td>\n",
       "    </tr>\n",
       "    <tr>\n",
       "      <th>4</th>\n",
       "      <td>6345</td>\n",
       "      <td>Meghann</td>\n",
       "      <td>test6@gmail.com</td>\n",
       "      <td>username_6</td>\n",
       "      <td>12345678A</td>\n",
       "      <td>999999999</td>\n",
       "      <td>Caiseal Mor</td>\n",
       "    </tr>\n",
       "  </tbody>\n",
       "</table>\n",
       "</div>"
      ],
      "text/plain": [
       "     id       name            email    username   password      phone  \\\n",
       "0  1424   Mechelle  test1@gmail.com  username_1  12345678A  999999999   \n",
       "1  1848     Tyesha  test2@gmail.com  username_2  12345678A  999999999   \n",
       "2  3363       Dean  test3@gmail.com  username_3  12345678A  999999999   \n",
       "3  4017  Margareta  test5@gmail.com  username_5  12345678A  999999999   \n",
       "4  6345    Meghann  test6@gmail.com  username_6  12345678A  999999999   \n",
       "\n",
       "        fav_author  \n",
       "0  William Shatner  \n",
       "1     Meggin Cabot  \n",
       "2    Rebecca Wells  \n",
       "3    Sharon Creech  \n",
       "4      Caiseal Mor  "
      ]
     },
     "execution_count": 2,
     "metadata": {},
     "output_type": "execute_result"
    }
   ],
   "source": [
    "users_df = db.get_users_df()\n",
    "users_df.head()"
   ]
  },
  {
   "cell_type": "code",
   "execution_count": 3,
   "id": "4c51221f",
   "metadata": {
    "scrolled": true
   },
   "outputs": [
    {
     "data": {
      "text/html": [
       "<div>\n",
       "<style scoped>\n",
       "    .dataframe tbody tr th:only-of-type {\n",
       "        vertical-align: middle;\n",
       "    }\n",
       "\n",
       "    .dataframe tbody tr th {\n",
       "        vertical-align: top;\n",
       "    }\n",
       "\n",
       "    .dataframe thead th {\n",
       "        text-align: right;\n",
       "    }\n",
       "</style>\n",
       "<table border=\"1\" class=\"dataframe\">\n",
       "  <thead>\n",
       "    <tr style=\"text-align: right;\">\n",
       "      <th></th>\n",
       "      <th>id</th>\n",
       "      <th>title</th>\n",
       "      <th>author</th>\n",
       "      <th>pub_year</th>\n",
       "      <th>publisher</th>\n",
       "      <th>price</th>\n",
       "      <th>avg_rate</th>\n",
       "      <th>count_rate</th>\n",
       "      <th>image</th>\n",
       "    </tr>\n",
       "  </thead>\n",
       "  <tbody>\n",
       "    <tr>\n",
       "      <th>0</th>\n",
       "      <td>6379702</td>\n",
       "      <td>My \\Star Trek\\\" Memories\"</td>\n",
       "      <td>William Shatner</td>\n",
       "      <td>1993</td>\n",
       "      <td>HarperCollins Publishers</td>\n",
       "      <td>17.95</td>\n",
       "      <td>6.0</td>\n",
       "      <td>3</td>\n",
       "      <td>http://images.amazon.com/images/P/0006379702.0...</td>\n",
       "    </tr>\n",
       "    <tr>\n",
       "      <th>1</th>\n",
       "      <td>34544003</td>\n",
       "      <td>Southampton Row (Charlotte &amp;amp; Thomas Pitt N...</td>\n",
       "      <td>Anne Perry</td>\n",
       "      <td>2002</td>\n",
       "      <td>Ballantine Books</td>\n",
       "      <td>34.00</td>\n",
       "      <td>0.0</td>\n",
       "      <td>0</td>\n",
       "      <td>http://images.amazon.com/images/P/034544003X.0...</td>\n",
       "    </tr>\n",
       "    <tr>\n",
       "      <th>2</th>\n",
       "      <td>34545104</td>\n",
       "      <td>Flesh Tones: A Novel</td>\n",
       "      <td>M. J. Rose</td>\n",
       "      <td>2002</td>\n",
       "      <td>Ballantine Books</td>\n",
       "      <td>20.00</td>\n",
       "      <td>0.0</td>\n",
       "      <td>0</td>\n",
       "      <td>http://images.amazon.com/images/P/034545104X.0...</td>\n",
       "    </tr>\n",
       "    <tr>\n",
       "      <th>3</th>\n",
       "      <td>38550120</td>\n",
       "      <td>A Painted House</td>\n",
       "      <td>JOHN GRISHAM</td>\n",
       "      <td>2001</td>\n",
       "      <td>Doubleday</td>\n",
       "      <td>18.00</td>\n",
       "      <td>7.0</td>\n",
       "      <td>1</td>\n",
       "      <td>http://images.amazon.com/images/P/038550120X.0...</td>\n",
       "    </tr>\n",
       "    <tr>\n",
       "      <th>4</th>\n",
       "      <td>52165615</td>\n",
       "      <td>Help!: Level 1</td>\n",
       "      <td>Philip Prowse</td>\n",
       "      <td>1999</td>\n",
       "      <td>Cambridge University Press</td>\n",
       "      <td>33.00</td>\n",
       "      <td>3.0</td>\n",
       "      <td>1</td>\n",
       "      <td>http://images.amazon.com/images/P/052165615X.0...</td>\n",
       "    </tr>\n",
       "  </tbody>\n",
       "</table>\n",
       "</div>"
      ],
      "text/plain": [
       "         id                                              title  \\\n",
       "0   6379702                          My \\Star Trek\\\" Memories\"   \n",
       "1  34544003  Southampton Row (Charlotte &amp; Thomas Pitt N...   \n",
       "2  34545104                               Flesh Tones: A Novel   \n",
       "3  38550120                                    A Painted House   \n",
       "4  52165615                                     Help!: Level 1   \n",
       "\n",
       "            author  pub_year                   publisher  price  avg_rate  \\\n",
       "0  William Shatner      1993    HarperCollins Publishers  17.95       6.0   \n",
       "1       Anne Perry      2002            Ballantine Books  34.00       0.0   \n",
       "2       M. J. Rose      2002            Ballantine Books  20.00       0.0   \n",
       "3     JOHN GRISHAM      2001                   Doubleday  18.00       7.0   \n",
       "4    Philip Prowse      1999  Cambridge University Press  33.00       3.0   \n",
       "\n",
       "   count_rate                                              image  \n",
       "0           3  http://images.amazon.com/images/P/0006379702.0...  \n",
       "1           0  http://images.amazon.com/images/P/034544003X.0...  \n",
       "2           0  http://images.amazon.com/images/P/034545104X.0...  \n",
       "3           1  http://images.amazon.com/images/P/038550120X.0...  \n",
       "4           1  http://images.amazon.com/images/P/052165615X.0...  "
      ]
     },
     "execution_count": 3,
     "metadata": {},
     "output_type": "execute_result"
    }
   ],
   "source": [
    "books_df = db.get_books_df(None, None)\n",
    "books_df.head()"
   ]
  },
  {
   "cell_type": "code",
   "execution_count": 5,
   "id": "67592039",
   "metadata": {},
   "outputs": [
    {
     "data": {
      "text/plain": [
       "(   id  User_id   Book_id  rate\n",
       " 0   1    11676   6379702   5.0\n",
       " 1   2    63714   6379702   8.0\n",
       " 2   3   276798   6379702   5.0\n",
       " 3   4     3363  60096195   0.0\n",
       " 4   5     7125  60096195   8.0,\n",
       " 81)"
      ]
     },
     "execution_count": 5,
     "metadata": {},
     "output_type": "execute_result"
    }
   ],
   "source": [
    "ratings_df = db.get_ratings_df()\n",
    "ratings_df.head(), len(ratings_df)"
   ]
  },
  {
   "cell_type": "code",
   "execution_count": 6,
   "id": "907ccc72",
   "metadata": {},
   "outputs": [
    {
     "data": {
      "text/html": [
       "<div>\n",
       "<style scoped>\n",
       "    .dataframe tbody tr th:only-of-type {\n",
       "        vertical-align: middle;\n",
       "    }\n",
       "\n",
       "    .dataframe tbody tr th {\n",
       "        vertical-align: top;\n",
       "    }\n",
       "\n",
       "    .dataframe thead th {\n",
       "        text-align: right;\n",
       "    }\n",
       "</style>\n",
       "<table border=\"1\" class=\"dataframe\">\n",
       "  <thead>\n",
       "    <tr style=\"text-align: right;\">\n",
       "      <th></th>\n",
       "      <th>id</th>\n",
       "      <th>User_id</th>\n",
       "      <th>Book_id</th>\n",
       "      <th>rate</th>\n",
       "    </tr>\n",
       "  </thead>\n",
       "  <tbody>\n",
       "    <tr>\n",
       "      <th>2</th>\n",
       "      <td>3</td>\n",
       "      <td>276798</td>\n",
       "      <td>6379702</td>\n",
       "      <td>5.0</td>\n",
       "    </tr>\n",
       "  </tbody>\n",
       "</table>\n",
       "</div>"
      ],
      "text/plain": [
       "   id  User_id  Book_id  rate\n",
       "2   3   276798  6379702   5.0"
      ]
     },
     "execution_count": 6,
     "metadata": {},
     "output_type": "execute_result"
    }
   ],
   "source": [
    "ratings_df[ratings_df['User_id'] == 276798]"
   ]
  },
  {
   "cell_type": "code",
   "execution_count": 7,
   "id": "fee25563",
   "metadata": {},
   "outputs": [
    {
     "data": {
      "text/html": [
       "<div>\n",
       "<style scoped>\n",
       "    .dataframe tbody tr th:only-of-type {\n",
       "        vertical-align: middle;\n",
       "    }\n",
       "\n",
       "    .dataframe tbody tr th {\n",
       "        vertical-align: top;\n",
       "    }\n",
       "\n",
       "    .dataframe thead th {\n",
       "        text-align: right;\n",
       "    }\n",
       "</style>\n",
       "<table border=\"1\" class=\"dataframe\">\n",
       "  <thead>\n",
       "    <tr style=\"text-align: right;\">\n",
       "      <th></th>\n",
       "      <th>id</th>\n",
       "      <th>User_id</th>\n",
       "      <th>Book_id</th>\n",
       "      <th>rate</th>\n",
       "    </tr>\n",
       "  </thead>\n",
       "  <tbody>\n",
       "    <tr>\n",
       "      <th>0</th>\n",
       "      <td>1</td>\n",
       "      <td>11676</td>\n",
       "      <td>6379702</td>\n",
       "      <td>5.0</td>\n",
       "    </tr>\n",
       "    <tr>\n",
       "      <th>21</th>\n",
       "      <td>22</td>\n",
       "      <td>11676</td>\n",
       "      <td>91830893</td>\n",
       "      <td>0.0</td>\n",
       "    </tr>\n",
       "    <tr>\n",
       "      <th>60</th>\n",
       "      <td>61</td>\n",
       "      <td>11676</td>\n",
       "      <td>671749609</td>\n",
       "      <td>7.0</td>\n",
       "    </tr>\n",
       "  </tbody>\n",
       "</table>\n",
       "</div>"
      ],
      "text/plain": [
       "    id  User_id    Book_id  rate\n",
       "0    1    11676    6379702   5.0\n",
       "21  22    11676   91830893   0.0\n",
       "60  61    11676  671749609   7.0"
      ]
     },
     "execution_count": 7,
     "metadata": {},
     "output_type": "execute_result"
    }
   ],
   "source": [
    "ratings_df[ratings_df['User_id'] == 11676]"
   ]
  },
  {
   "cell_type": "code",
   "execution_count": 8,
   "id": "7829b9ac",
   "metadata": {},
   "outputs": [],
   "source": [
    "# get most rated books\n",
    "def get_most_rated_books(year=None, author=None, limit=10):\n",
    "    return sorted(db.get_books(year, author), key=lambda b: -b.avg_rate)[:limit]"
   ]
  },
  {
   "cell_type": "code",
   "execution_count": 9,
   "id": "9a3f655e",
   "metadata": {},
   "outputs": [
    {
     "data": {
      "text/plain": [
       "[<Book(id=60096195, author=Meggin Cabot, title=The Boy Next Door, price=15.0, year=2002, avg_rate=7.0)>,\n",
       " <Book(id=3596151465, author=Roddy Doyle, title=Henry der Held., price=43.0, year=2001, avg_rate=10.0)>]"
      ]
     },
     "execution_count": 9,
     "metadata": {},
     "output_type": "execute_result"
    }
   ],
   "source": [
    "a = ['Meggin Cabot', 'Roddy Doyle']\n",
    "year = None\n",
    "results = []\n",
    "for author in a:\n",
    "    results.extend(get_most_rated_books(year, author))\n",
    "results"
   ]
  },
  {
   "cell_type": "code",
   "execution_count": 10,
   "id": "fa9135cf",
   "metadata": {},
   "outputs": [
    {
     "name": "stdout",
     "output_type": "stream",
     "text": [
      "The ratings dataset has 60 unique users\n",
      "The ratings dataset has 43 unique books\n",
      "The ratings dataset has 8 unique ratings\n",
      "The unique ratings are [0.0, 3.0, 5.0, 6.0, 7.0, 8.0, 9.0, 10.0]\n"
     ]
    }
   ],
   "source": [
    "# Number of users\n",
    "print('The ratings dataset has', ratings_df['User_id'].nunique(), 'unique users')\n",
    "\n",
    "# Number of books\n",
    "print('The ratings dataset has', ratings_df['Book_id'].nunique(), 'unique books')\n",
    "\n",
    "# Number of ratings\n",
    "print('The ratings dataset has', ratings_df['rate'].nunique(), 'unique ratings')\n",
    "\n",
    "# List of unique ratings\n",
    "print('The unique ratings are', sorted(ratings_df['rate'].unique()))"
   ]
  },
  {
   "cell_type": "code",
   "execution_count": 11,
   "id": "8dbd6bbd",
   "metadata": {},
   "outputs": [],
   "source": [
    "# tested but didn't work\n",
    "# https://colab.research.google.com/drive/1xxijmbGTqLGVGKruAcVHPODCIyxfw09-#scrollTo=JlxIlzJaMlgc"
   ]
  },
  {
   "cell_type": "code",
   "execution_count": 15,
   "id": "f7ae3b95",
   "metadata": {},
   "outputs": [],
   "source": [
    "from surprise import NormalPredictor\n",
    "from surprise import Dataset\n",
    "from surprise import Reader\n",
    "from surprise import SVD, Dataset\n",
    "from surprise import SVDpp\n",
    "from surprise import KNNBasic\n",
    "from surprise import accuracy\n",
    "from surprise.model_selection import cross_validate, train_test_split, GridSearchCV"
   ]
  },
  {
   "cell_type": "code",
   "execution_count": 21,
   "id": "f5635cd8",
   "metadata": {},
   "outputs": [],
   "source": [
    "reader = Reader(rating_scale=(1, 10))\n",
    "data = Dataset.load_from_df(ratings_df[['User_id', 'Book_id', 'rate']], reader)"
   ]
  },
  {
   "cell_type": "code",
   "execution_count": 22,
   "id": "f196ff0e",
   "metadata": {},
   "outputs": [
    {
     "data": {
      "text/plain": [
       "<surprise.dataset.DatasetAutoFolds at 0x7f6fe2638910>"
      ]
     },
     "execution_count": 22,
     "metadata": {},
     "output_type": "execute_result"
    }
   ],
   "source": [
    "data"
   ]
  },
  {
   "cell_type": "code",
   "execution_count": 23,
   "id": "92e38ce9",
   "metadata": {},
   "outputs": [
    {
     "data": {
      "text/plain": [
       "<surprise.trainset.Trainset at 0x7f6fe2634250>"
      ]
     },
     "execution_count": 23,
     "metadata": {},
     "output_type": "execute_result"
    }
   ],
   "source": [
    "trainset = data.build_full_trainset()\n",
    "trainset"
   ]
  },
  {
   "cell_type": "code",
   "execution_count": 34,
   "id": "0189200b",
   "metadata": {},
   "outputs": [],
   "source": [
    "param_grid = {'n_factors': [10, 20, 40, 100, 150],\n",
    "              'n_epochs': [1, 5, 10, 20,25,30],\n",
    "              'lr_all':[0.001, 0.005,0.01,0.1],\n",
    "              'reg_all':[0.001, 0.02,0.05,0.1]}\n",
    "grid_search = GridSearchCV(SVD, param_grid, measures=['rmse','mae'], cv=2)\n",
    "grid_search.fit(data)     "
   ]
  },
  {
   "cell_type": "code",
   "execution_count": 35,
   "id": "8d951487",
   "metadata": {},
   "outputs": [
    {
     "data": {
      "text/plain": [
       "{'rmse': 3.99661659856209, 'mae': 3.5977466849955033}"
      ]
     },
     "execution_count": 35,
     "metadata": {},
     "output_type": "execute_result"
    }
   ],
   "source": [
    "grid_search.best_score"
   ]
  },
  {
   "cell_type": "code",
   "execution_count": 36,
   "id": "a9d90ac4",
   "metadata": {},
   "outputs": [
    {
     "data": {
      "text/plain": [
       "{'rmse': {'n_factors': 150, 'n_epochs': 25, 'lr_all': 0.005, 'reg_all': 0.001},\n",
       " 'mae': {'n_factors': 10, 'n_epochs': 25, 'lr_all': 0.1, 'reg_all': 0.02}}"
      ]
     },
     "execution_count": 36,
     "metadata": {},
     "output_type": "execute_result"
    }
   ],
   "source": [
    "grid_search.best_params"
   ]
  },
  {
   "cell_type": "code",
   "execution_count": 55,
   "id": "55e813b5",
   "metadata": {},
   "outputs": [
    {
     "data": {
      "text/plain": [
       "<surprise.prediction_algorithms.matrix_factorization.SVD at 0x7fbc5131baf0>"
      ]
     },
     "execution_count": 55,
     "metadata": {},
     "output_type": "execute_result"
    }
   ],
   "source": [
    "algo = SVD(n_factors=100, n_epochs=20, lr_all=0.005, reg_all=0.05)\n",
    "trainset = data.build_full_trainset()\n",
    "testset = trainset.build_testset()\n",
    "# fitting algorithm\n",
    "algo.fit(trainset)"
   ]
  },
  {
   "cell_type": "code",
   "execution_count": 56,
   "id": "9a031e62",
   "metadata": {},
   "outputs": [],
   "source": [
    "preds = algo.test(testset)"
   ]
  },
  {
   "cell_type": "code",
   "execution_count": 57,
   "id": "b64b34c1",
   "metadata": {},
   "outputs": [
    {
     "name": "stdout",
     "output_type": "stream",
     "text": [
      "RMSE: 2.5573\n"
     ]
    },
    {
     "data": {
      "text/plain": [
       "2.557290366507372"
      ]
     },
     "execution_count": 57,
     "metadata": {},
     "output_type": "execute_result"
    }
   ],
   "source": [
    "accuracy.rmse(preds)"
   ]
  },
  {
   "cell_type": "code",
   "execution_count": 58,
   "id": "f0076f87",
   "metadata": {},
   "outputs": [],
   "source": [
    "trainSet, testSet = train_test_split(data, test_size=0.2)"
   ]
  },
  {
   "cell_type": "code",
   "execution_count": 59,
   "id": "d5731613",
   "metadata": {},
   "outputs": [
    {
     "data": {
      "text/plain": [
       "[(276820, 140062718, 0.0),\n",
       " (276780, 8434811634, 0.0),\n",
       " (21364, 140062718, 0.0),\n",
       " (34491, 140279091, 5.0),\n",
       " (276751, 3596218098, 8.0),\n",
       " (276762, 380000059, 0.0),\n",
       " (276733, 2080674722, 0.0),\n",
       " (34509, 671749609, 8.0),\n",
       " (11676, 6379702, 5.0),\n",
       " (276747, 609801279, 0.0),\n",
       " (276746, 425115801, 0.0),\n",
       " (25454, 140062718, 8.0),\n",
       " (276772, 3596151465, 10.0),\n",
       " (3363, 64405176, 10.0),\n",
       " (276774, 99543818, 0.0),\n",
       " (276804, 64405176, 0.0),\n",
       " (31919, 140062718, 0.0)]"
      ]
     },
     "execution_count": 59,
     "metadata": {},
     "output_type": "execute_result"
    }
   ],
   "source": [
    "testSet"
   ]
  },
  {
   "cell_type": "code",
   "execution_count": 27,
   "id": "70169812",
   "metadata": {},
   "outputs": [
    {
     "data": {
      "text/plain": [
       "[Prediction(uid=9226, iid=345443683, r_ui=9.0, est=6.542223126257719, details={'was_impossible': False}),\n",
       " Prediction(uid=276726, iid=155061224, r_ui=5.0, est=4.654982523569042, details={'was_impossible': False}),\n",
       " Prediction(uid=276748, iid=747558167, r_ui=6.0, est=5.0086145961896555, details={'was_impossible': False}),\n",
       " Prediction(uid=276762, iid=380000059, r_ui=0.0, est=2.784643195454671, details={'was_impossible': False}),\n",
       " Prediction(uid=276796, iid=330332775, r_ui=5.0, est=4.653843504303772, details={'was_impossible': False}),\n",
       " Prediction(uid=18587, iid=60517794, r_ui=0.0, est=3.388376330892182, details={'was_impossible': False}),\n",
       " Prediction(uid=278100, iid=61054143, r_ui=0.0, est=2.5323949519436986, details={'was_impossible': False}),\n",
       " Prediction(uid=276729, iid='052165615X', r_ui=3.0, est=4.095140483244991, details={'was_impossible': False}),\n",
       " Prediction(uid=276746, iid='055356451X', r_ui=0.0, est=2.092728740609238, details={'was_impossible': False}),\n",
       " Prediction(uid=276733, iid=2080674722, r_ui=0.0, est=2.7132212966042775, details={'was_impossible': False}),\n",
       " Prediction(uid=112496, iid=91830893, r_ui=7.0, est=5.286943742344923, details={'was_impossible': False}),\n",
       " Prediction(uid=276755, iid=451166892, r_ui=5.0, est=4.4932624841314555, details={'was_impossible': False}),\n",
       " Prediction(uid=34509, iid=671749609, r_ui=8.0, est=5.476921141641473, details={'was_impossible': False}),\n",
       " Prediction(uid=8961, iid=60517794, r_ui=8.0, est=6.0697226632520636, details={'was_impossible': False}),\n",
       " Prediction(uid=34491, iid=140279091, r_ui=5.0, est=3.9046088359680806, details={'was_impossible': False}),\n",
       " Prediction(uid=26190, iid=395547032, r_ui=0.0, est=3.0467067822610034, details={'was_impossible': False})]"
      ]
     },
     "execution_count": 27,
     "metadata": {},
     "output_type": "execute_result"
    }
   ],
   "source": [
    "algo.test(testSet)"
   ]
  },
  {
   "cell_type": "code",
   "execution_count": 36,
   "id": "869bedc6",
   "metadata": {},
   "outputs": [],
   "source": [
    "# https://www.kaggle.com/code/ibtesama/getting-started-with-a-movie-recommendation-system#Collaborative-Filtering\n",
    "# https://www.alldatascience.com/recommender-systems/simple-recipe-recommender-system-with-scikit-surprise/\n",
    "def get_recommendations_SVD(user_id, max_recommendations=10, thresh=0.0):\n",
    "    # setup reader\n",
    "    reader = Reader(rating_scale=(1, 10))\n",
    "    data = Dataset.load_from_df(ratings_df[['user_id', 'book_id', 'rate']], reader)\n",
    "    # initate algorithm\n",
    "    algo = SVD(n_factors=100, n_epochs=20, lr_all=0.005, reg_all=0.05)\n",
    "    # fitting algorithm\n",
    "    algo.fit(data.build_full_trainset())\n",
    "    # predict user rating on the books\n",
    "    rated_books = ratings_df[ratings_df['user_id'] == user_id]['book_id'].tolist()\n",
    "    predictions = []\n",
    "    for book_id in books_df['id']:\n",
    "        if(book_id in rated_books):  # predict only unrated books\n",
    "            continue\n",
    "        predictions.append(algo.predict(user_id, book_id))\n",
    "    dfx = pd.DataFrame(predictions, columns=['uid', 'iid', 'r_ui', 'est', 'details'])\n",
    "    dfx = dfx.sort_values(['est'], ascending=False)\n",
    "    print(dfx)\n",
    "    recommended_books_ids = dfx[dfx['est'] >= thresh][:max_recommendations]['iid'].tolist()\n",
    "    return [db.get_book_by_id(book_id) for book_id in recommended_books_ids]"
   ]
  },
  {
   "cell_type": "code",
   "execution_count": 39,
   "id": "70b5140e",
   "metadata": {
    "scrolled": false
   },
   "outputs": [
    {
     "name": "stdout",
     "output_type": "stream",
     "text": [
      "     uid         iid  r_ui       est                    details\n",
      "10  7346   345443683  None  5.858714  {'was_impossible': False}\n",
      "16  7346   446520802  None  5.195449  {'was_impossible': False}\n",
      "38  7346  3499230933  None  5.141816  {'was_impossible': False}\n",
      "15  7346   440414121  None  5.082130  {'was_impossible': False}\n",
      "0   7346     6379702  None  5.069705  {'was_impossible': False}\n",
      "40  7346  3596218098  None  5.019184  {'was_impossible': False}\n",
      "39  7346  3596151465  None  4.986912  {'was_impossible': False}\n",
      "28  7346   671749609  None  4.936797  {'was_impossible': False}\n",
      "31  7346   747558167  None  4.929349  {'was_impossible': False}\n",
      "12  7346   380711524  None  4.898044  {'was_impossible': False}\n",
      "1   7346    60517794  None  4.870193  {'was_impossible': False}\n",
      "27  7346   671537458  None  4.863578  {'was_impossible': False}\n",
      "30  7346   684867621  None  4.858624  {'was_impossible': False}\n",
      "29  7346   679776818  None  4.856609  {'was_impossible': False}\n",
      "4   7346    91830893  None  4.840883  {'was_impossible': False}\n",
      "18  7346   451166892  None  4.759966  {'was_impossible': False}\n",
      "34  7346   943066433  None  4.740232  {'was_impossible': False}\n",
      "42  7346  8434811634  None  4.728883  {'was_impossible': False}\n",
      "36  7346  1885408226  None  4.714253  {'was_impossible': False}\n",
      "21  7346   451454952  None  4.679051  {'was_impossible': False}\n",
      "32  7346   786013990  None  4.679051  {'was_impossible': False}\n",
      "20  7346   451192001  None  4.679051  {'was_impossible': False}\n",
      "33  7346   786014512  None  4.679051  {'was_impossible': False}\n",
      "22  7346   521795028  None  4.675942  {'was_impossible': False}\n",
      "24  7346   553572369  None  4.675015  {'was_impossible': False}\n",
      "8   7346   155061224  None  4.656239  {'was_impossible': False}\n",
      "9   7346   330332775  None  4.518545  {'was_impossible': False}\n",
      "3   7346    64405176  None  4.450786  {'was_impossible': False}\n",
      "23  7346   553561618  None  4.419335  {'was_impossible': False}\n",
      "17  7346   449006522  None  4.412576  {'was_impossible': False}\n",
      "14  7346   425115801  None  4.401628  {'was_impossible': False}\n",
      "35  7346  1570231028  None  4.396980  {'was_impossible': False}\n",
      "25  7346   571058086  None  4.357489  {'was_impossible': False}\n",
      "37  7346  2080674722  None  4.280045  {'was_impossible': False}\n",
      "41  7346  8401328322  None  4.243913  {'was_impossible': False}\n",
      "26  7346   609801279  None  4.237151  {'was_impossible': False}\n",
      "19  7346   451167317  None  4.235714  {'was_impossible': False}\n",
      "11  7346   380000059  None  4.230093  {'was_impossible': False}\n",
      "7   7346   140279091  None  4.181652  {'was_impossible': False}\n",
      "13  7346   395547032  None  4.180580  {'was_impossible': False}\n",
      "2   7346    61054143  None  4.163030  {'was_impossible': False}\n",
      "6   7346   140062718  None  4.125506  {'was_impossible': False}\n",
      "5   7346    99543818  None  3.840072  {'was_impossible': False}\n"
     ]
    },
    {
     "data": {
      "text/plain": [
       "[<Book(id=345443683, author=ANNE RICE, title=Blackwood Farm (Rice, Anne, Vampire Chronicles.), price=23.0, year=2003, avg_rate=8.66666666666667)>,\n",
       " <Book(id=446520802, author=Nicholas Sparks, title=The Notebook, price=17.0, year=1996, avg_rate=6.66666666666667)>,\n",
       " <Book(id=3499230933, author=Kathrine Kressmann Taylor, title=Adressat unbekannt., price=18.0, year=2002, avg_rate=10.0)>,\n",
       " <Book(id=440414121, author=CHRISTOPHER PAUL CURTIS, title=The Watsons Go to Birmingham - 1963 (Yearling Newbery), price=43.0, year=1997, avg_rate=10.0)>,\n",
       " <Book(id=6379702, author=William Shatner, title=My \\Star Trek\\\" Memories\", price=17.95, year=1993, avg_rate=6.0)>,\n",
       " <Book(id=3596218098, author=Carlos Castaneda, title=Reise nach Ixtlan. Die Lehre des Don Juan., price=22.95, year=1998, avg_rate=8.0)>,\n",
       " <Book(id=3596151465, author=Roddy Doyle, title=Henry der Held., price=43.0, year=2001, avg_rate=10.0)>,\n",
       " <Book(id=671749609, author=Patrick Suskind, title=PERFUME : PERFUME, price=25.0, year=1991, avg_rate=5.0)>,\n",
       " <Book(id=747558167, author=Colette Rossant, title=Apricots on the Nile: A Memoir with Recipes, price=34.0, year=2002, avg_rate=6.0)>,\n",
       " <Book(id=380711524, author=Joy Fielding, title=See Jane Run, price=32.0, year=1992, avg_rate=5.0)>]"
      ]
     },
     "execution_count": 39,
     "metadata": {},
     "output_type": "execute_result"
    }
   ],
   "source": [
    "get_recommendations_SVD(7346, thresh=-1)"
   ]
  },
  {
   "cell_type": "code",
   "execution_count": 22,
   "id": "038117b5",
   "metadata": {},
   "outputs": [
    {
     "data": {
      "text/html": [
       "<div>\n",
       "<style scoped>\n",
       "    .dataframe tbody tr th:only-of-type {\n",
       "        vertical-align: middle;\n",
       "    }\n",
       "\n",
       "    .dataframe tbody tr th {\n",
       "        vertical-align: top;\n",
       "    }\n",
       "\n",
       "    .dataframe thead th {\n",
       "        text-align: right;\n",
       "    }\n",
       "</style>\n",
       "<table border=\"1\" class=\"dataframe\">\n",
       "  <thead>\n",
       "    <tr style=\"text-align: right;\">\n",
       "      <th></th>\n",
       "      <th>id</th>\n",
       "      <th>rate</th>\n",
       "      <th>user_id</th>\n",
       "      <th>book_id</th>\n",
       "    </tr>\n",
       "  </thead>\n",
       "  <tbody>\n",
       "    <tr>\n",
       "      <th>36</th>\n",
       "      <td>37</td>\n",
       "      <td>9.0</td>\n",
       "      <td>1848</td>\n",
       "      <td>345443683</td>\n",
       "    </tr>\n",
       "    <tr>\n",
       "      <th>37</th>\n",
       "      <td>38</td>\n",
       "      <td>9.0</td>\n",
       "      <td>9226</td>\n",
       "      <td>345443683</td>\n",
       "    </tr>\n",
       "    <tr>\n",
       "      <th>38</th>\n",
       "      <td>39</td>\n",
       "      <td>8.0</td>\n",
       "      <td>276788</td>\n",
       "      <td>345443683</td>\n",
       "    </tr>\n",
       "  </tbody>\n",
       "</table>\n",
       "</div>"
      ],
      "text/plain": [
       "    id  rate  user_id    book_id\n",
       "36  37   9.0     1848  345443683\n",
       "37  38   9.0     9226  345443683\n",
       "38  39   8.0   276788  345443683"
      ]
     },
     "execution_count": 22,
     "metadata": {},
     "output_type": "execute_result"
    }
   ],
   "source": [
    "ratings_df[ratings_df['book_id'] == 345443683]"
   ]
  },
  {
   "cell_type": "code",
   "execution_count": 23,
   "id": "17e46e15",
   "metadata": {},
   "outputs": [
    {
     "data": {
      "text/html": [
       "<div>\n",
       "<style scoped>\n",
       "    .dataframe tbody tr th:only-of-type {\n",
       "        vertical-align: middle;\n",
       "    }\n",
       "\n",
       "    .dataframe tbody tr th {\n",
       "        vertical-align: top;\n",
       "    }\n",
       "\n",
       "    .dataframe thead th {\n",
       "        text-align: right;\n",
       "    }\n",
       "</style>\n",
       "<table border=\"1\" class=\"dataframe\">\n",
       "  <thead>\n",
       "    <tr style=\"text-align: right;\">\n",
       "      <th></th>\n",
       "      <th>id</th>\n",
       "      <th>rate</th>\n",
       "      <th>user_id</th>\n",
       "      <th>book_id</th>\n",
       "    </tr>\n",
       "  </thead>\n",
       "  <tbody>\n",
       "    <tr>\n",
       "      <th>5</th>\n",
       "      <td>6</td>\n",
       "      <td>8.0</td>\n",
       "      <td>7346</td>\n",
       "      <td>60096195</td>\n",
       "    </tr>\n",
       "  </tbody>\n",
       "</table>\n",
       "</div>"
      ],
      "text/plain": [
       "   id  rate  user_id   book_id\n",
       "5   6   8.0     7346  60096195"
      ]
     },
     "execution_count": 23,
     "metadata": {},
     "output_type": "execute_result"
    }
   ],
   "source": [
    "ratings_df[ratings_df['user_id'] == 7346]"
   ]
  },
  {
   "cell_type": "code",
   "execution_count": null,
   "id": "3301cd58",
   "metadata": {},
   "outputs": [],
   "source": []
  },
  {
   "cell_type": "code",
   "execution_count": null,
   "id": "5884ae11",
   "metadata": {},
   "outputs": [],
   "source": []
  },
  {
   "cell_type": "code",
   "execution_count": null,
   "id": "9a7e8160",
   "metadata": {},
   "outputs": [],
   "source": []
  }
 ],
 "metadata": {
  "kernelspec": {
   "display_name": "Python 3.9.0 64-bit",
   "language": "python",
   "name": "python3"
  },
  "language_info": {
   "codemirror_mode": {
    "name": "ipython",
    "version": 3
   },
   "file_extension": ".py",
   "mimetype": "text/x-python",
   "name": "python",
   "nbconvert_exporter": "python",
   "pygments_lexer": "ipython3",
   "version": "3.9.0"
  },
  "vscode": {
   "interpreter": {
    "hash": "207ad0d1eaa0246b6008ab5b795fb98b6c4e1bbf53744f8251e40d33b03377bf"
   }
  }
 },
 "nbformat": 4,
 "nbformat_minor": 5
}
